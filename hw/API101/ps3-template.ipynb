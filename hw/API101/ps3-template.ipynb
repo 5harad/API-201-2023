{
  "cells": [
    {
      "cell_type": "markdown",
      "metadata": {
        "id": "view-in-github",
        "colab_type": "text"
      },
      "source": [
        "<a href=\"https://colab.research.google.com/github/5harad/API-201-2023/blob/main/hw/API101/ps3-template.ipynb\" target=\"_parent\"><img src=\"https://colab.research.google.com/assets/colab-badge.svg\" alt=\"Open In Colab\"/></a>"
      ]
    },
    {
      "cell_type": "markdown",
      "metadata": {
        "id": "4839cd02-22e6-4e06-9617-eccba2b91eb8"
      },
      "source": [
        "# API-101 PROBLEM SET #3\n"
      ]
    },
    {
      "cell_type": "markdown",
      "source": [
        "This is a bare-bones notebook that helps you get started with your analysis by loading `tidyverse` and the CPS data."
      ],
      "metadata": {
        "id": "ccX00xfYr9gt"
      }
    },
    {
      "cell_type": "code",
      "source": [
        "library(tidyverse)"
      ],
      "metadata": {
        "id": "KEa7syEnS1un",
        "outputId": "0dccb942-0f21-40af-cd0f-2109955b5746",
        "colab": {
          "base_uri": "https://localhost:8080/"
        }
      },
      "execution_count": null,
      "outputs": [
        {
          "output_type": "stream",
          "name": "stderr",
          "text": [
            "── \u001b[1mAttaching core tidyverse packages\u001b[22m ──────────────────────── tidyverse 2.0.0 ──\n",
            "\u001b[32m✔\u001b[39m \u001b[34mdplyr    \u001b[39m 1.1.3     \u001b[32m✔\u001b[39m \u001b[34mreadr    \u001b[39m 2.1.4\n",
            "\u001b[32m✔\u001b[39m \u001b[34mforcats  \u001b[39m 1.0.0     \u001b[32m✔\u001b[39m \u001b[34mstringr  \u001b[39m 1.5.0\n",
            "\u001b[32m✔\u001b[39m \u001b[34mggplot2  \u001b[39m 3.4.3     \u001b[32m✔\u001b[39m \u001b[34mtibble   \u001b[39m 3.2.1\n",
            "\u001b[32m✔\u001b[39m \u001b[34mlubridate\u001b[39m 1.9.2     \u001b[32m✔\u001b[39m \u001b[34mtidyr    \u001b[39m 1.3.0\n",
            "\u001b[32m✔\u001b[39m \u001b[34mpurrr    \u001b[39m 1.0.2     \n",
            "── \u001b[1mConflicts\u001b[22m ────────────────────────────────────────── tidyverse_conflicts() ──\n",
            "\u001b[31m✖\u001b[39m \u001b[34mdplyr\u001b[39m::\u001b[32mfilter()\u001b[39m masks \u001b[34mstats\u001b[39m::filter()\n",
            "\u001b[31m✖\u001b[39m \u001b[34mdplyr\u001b[39m::\u001b[32mlag()\u001b[39m    masks \u001b[34mstats\u001b[39m::lag()\n",
            "\u001b[36mℹ\u001b[39m Use the conflicted package (\u001b[3m\u001b[34m<http://conflicted.r-lib.org/>\u001b[39m\u001b[23m) to force all conflicts to become errors\n"
          ]
        }
      ]
    },
    {
      "cell_type": "code",
      "source": [
        "cps <- read_csv(\"https://5harad.com/datasets/API101/cps_data_for_problem_set3.csv\")\n",
        "head(cps)"
      ],
      "metadata": {
        "id": "Gs5mka_lsTWu",
        "outputId": "4499d22b-43f0-4b2a-ff8a-cec2aa44f292",
        "colab": {
          "base_uri": "https://localhost:8080/",
          "height": 429
        }
      },
      "execution_count": null,
      "outputs": [
        {
          "output_type": "stream",
          "name": "stderr",
          "text": [
            "\u001b[1mRows: \u001b[22m\u001b[34m65600\u001b[39m \u001b[1mColumns: \u001b[22m\u001b[34m8\u001b[39m\n",
            "\u001b[36m──\u001b[39m \u001b[1mColumn specification\u001b[22m \u001b[36m────────────────────────────────────────────────────────\u001b[39m\n",
            "\u001b[1mDelimiter:\u001b[22m \",\"\n",
            "\u001b[31mchr\u001b[39m (1): HOUSEHOLD ID\n",
            "\u001b[32mdbl\u001b[39m (7): YEAR, AGE, SEX, INCWAGE, EMPLOYED, MARRIED, CHILDREN\n",
            "\n",
            "\u001b[36mℹ\u001b[39m Use `spec()` to retrieve the full column specification for this data.\n",
            "\u001b[36mℹ\u001b[39m Specify the column types or set `show_col_types = FALSE` to quiet this message.\n"
          ]
        },
        {
          "output_type": "display_data",
          "data": {
            "text/html": [
              "<table class=\"dataframe\">\n",
              "<caption>A tibble: 6 × 8</caption>\n",
              "<thead>\n",
              "\t<tr><th scope=col>HOUSEHOLD ID</th><th scope=col>YEAR</th><th scope=col>AGE</th><th scope=col>SEX</th><th scope=col>INCWAGE</th><th scope=col>EMPLOYED</th><th scope=col>MARRIED</th><th scope=col>CHILDREN</th></tr>\n",
              "\t<tr><th scope=col>&lt;chr&gt;</th><th scope=col>&lt;dbl&gt;</th><th scope=col>&lt;dbl&gt;</th><th scope=col>&lt;dbl&gt;</th><th scope=col>&lt;dbl&gt;</th><th scope=col>&lt;dbl&gt;</th><th scope=col>&lt;dbl&gt;</th><th scope=col>&lt;dbl&gt;</th></tr>\n",
              "</thead>\n",
              "<tbody>\n",
              "\t<tr><td>1991_10003</td><td>1991</td><td>24</td><td>2</td><td>    0</td><td>0</td><td>0</td><td>2</td></tr>\n",
              "\t<tr><td>1991_10004</td><td>1991</td><td>31</td><td>2</td><td>    0</td><td>0</td><td>0</td><td>0</td></tr>\n",
              "\t<tr><td>1991_10007</td><td>1991</td><td>22</td><td>2</td><td>36000</td><td>1</td><td>0</td><td>0</td></tr>\n",
              "\t<tr><td>1991_10015</td><td>1991</td><td>30</td><td>2</td><td>    0</td><td>0</td><td>0</td><td>1</td></tr>\n",
              "\t<tr><td>1991_10016</td><td>1991</td><td>41</td><td>2</td><td> 7350</td><td>1</td><td>0</td><td>1</td></tr>\n",
              "\t<tr><td>1991_10027</td><td>1991</td><td>35</td><td>2</td><td>29000</td><td>1</td><td>1</td><td>2</td></tr>\n",
              "</tbody>\n",
              "</table>\n"
            ],
            "text/markdown": "\nA tibble: 6 × 8\n\n| HOUSEHOLD ID &lt;chr&gt; | YEAR &lt;dbl&gt; | AGE &lt;dbl&gt; | SEX &lt;dbl&gt; | INCWAGE &lt;dbl&gt; | EMPLOYED &lt;dbl&gt; | MARRIED &lt;dbl&gt; | CHILDREN &lt;dbl&gt; |\n|---|---|---|---|---|---|---|---|\n| 1991_10003 | 1991 | 24 | 2 |     0 | 0 | 0 | 2 |\n| 1991_10004 | 1991 | 31 | 2 |     0 | 0 | 0 | 0 |\n| 1991_10007 | 1991 | 22 | 2 | 36000 | 1 | 0 | 0 |\n| 1991_10015 | 1991 | 30 | 2 |     0 | 0 | 0 | 1 |\n| 1991_10016 | 1991 | 41 | 2 |  7350 | 1 | 0 | 1 |\n| 1991_10027 | 1991 | 35 | 2 | 29000 | 1 | 1 | 2 |\n\n",
            "text/latex": "A tibble: 6 × 8\n\\begin{tabular}{llllllll}\n HOUSEHOLD ID & YEAR & AGE & SEX & INCWAGE & EMPLOYED & MARRIED & CHILDREN\\\\\n <chr> & <dbl> & <dbl> & <dbl> & <dbl> & <dbl> & <dbl> & <dbl>\\\\\n\\hline\n\t 1991\\_10003 & 1991 & 24 & 2 &     0 & 0 & 0 & 2\\\\\n\t 1991\\_10004 & 1991 & 31 & 2 &     0 & 0 & 0 & 0\\\\\n\t 1991\\_10007 & 1991 & 22 & 2 & 36000 & 1 & 0 & 0\\\\\n\t 1991\\_10015 & 1991 & 30 & 2 &     0 & 0 & 0 & 1\\\\\n\t 1991\\_10016 & 1991 & 41 & 2 &  7350 & 1 & 0 & 1\\\\\n\t 1991\\_10027 & 1991 & 35 & 2 & 29000 & 1 & 1 & 2\\\\\n\\end{tabular}\n",
            "text/plain": [
              "  HOUSEHOLD ID YEAR AGE SEX INCWAGE EMPLOYED MARRIED CHILDREN\n",
              "1 1991_10003   1991 24  2       0   0        0       2       \n",
              "2 1991_10004   1991 31  2       0   0        0       0       \n",
              "3 1991_10007   1991 22  2   36000   1        0       0       \n",
              "4 1991_10015   1991 30  2       0   0        0       1       \n",
              "5 1991_10016   1991 41  2    7350   1        0       1       \n",
              "6 1991_10027   1991 35  2   29000   1        1       2       "
            ]
          },
          "metadata": {}
        }
      ]
    },
    {
      "cell_type": "code",
      "source": [],
      "metadata": {
        "id": "XEpqICTMsjm6"
      },
      "execution_count": null,
      "outputs": []
    }
  ],
  "metadata": {
    "colab": {
      "provenance": [],
      "name": "hw5-exercises.ipynb",
      "include_colab_link": true
    },
    "kernelspec": {
      "display_name": "R",
      "language": "R",
      "name": "ir"
    },
    "language_info": {
      "codemirror_mode": "r",
      "file_extension": ".r",
      "mimetype": "text/x-r-source",
      "name": "R",
      "pygments_lexer": "r",
      "version": "4.2.1"
    }
  },
  "nbformat": 4,
  "nbformat_minor": 0
}