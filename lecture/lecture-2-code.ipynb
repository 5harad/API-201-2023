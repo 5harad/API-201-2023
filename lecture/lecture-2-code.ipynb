{
  "cells": [
    {
      "cell_type": "markdown",
      "metadata": {
        "id": "view-in-github",
        "colab_type": "text"
      },
      "source": [
        "<a href=\"https://colab.research.google.com/github/5harad/API-201-2023/blob/main/lecture/lecture-2-code.ipynb\" target=\"_parent\"><img src=\"https://colab.research.google.com/assets/colab-badge.svg\" alt=\"Open In Colab\"/></a>"
      ]
    },
    {
      "cell_type": "markdown",
      "id": "c8f6d4f7",
      "metadata": {
        "id": "c8f6d4f7"
      },
      "source": [
        "# Lecture 2: Intro to R"
      ]
    },
    {
      "cell_type": "markdown",
      "id": "c8813e64",
      "metadata": {
        "id": "c8813e64"
      },
      "source": [
        "## Part 1: Fundamentals\n",
        "\n",
        "---\n",
        "\n"
      ]
    },
    {
      "cell_type": "code",
      "source": [
        "age <- 25\n",
        "age"
      ],
      "metadata": {
        "colab": {
          "base_uri": "https://localhost:8080/",
          "height": 34
        },
        "id": "UdQylLjU1rKF",
        "outputId": "a7752dfc-6707-436e-aa7f-def56cbe640f"
      },
      "id": "UdQylLjU1rKF",
      "execution_count": 1,
      "outputs": [
        {
          "output_type": "display_data",
          "data": {
            "text/html": [
              "25"
            ],
            "text/markdown": "25",
            "text/latex": "25",
            "text/plain": [
              "[1] 25"
            ]
          },
          "metadata": {}
        }
      ]
    },
    {
      "cell_type": "code",
      "source": [
        "dogs <- c('wolfie', 'bella')\n",
        "dogs"
      ],
      "metadata": {
        "colab": {
          "base_uri": "https://localhost:8080/",
          "height": 34
        },
        "id": "x3VKpX4W1t75",
        "outputId": "d297bfd4-f56f-4adf-8899-63bace86a263"
      },
      "id": "x3VKpX4W1t75",
      "execution_count": 2,
      "outputs": [
        {
          "output_type": "display_data",
          "data": {
            "text/html": [
              "<style>\n",
              ".list-inline {list-style: none; margin:0; padding: 0}\n",
              ".list-inline>li {display: inline-block}\n",
              ".list-inline>li:not(:last-child)::after {content: \"\\00b7\"; padding: 0 .5ex}\n",
              "</style>\n",
              "<ol class=list-inline><li>'wolfie'</li><li>'bella'</li></ol>\n"
            ],
            "text/markdown": "1. 'wolfie'\n2. 'bella'\n\n\n",
            "text/latex": "\\begin{enumerate*}\n\\item 'wolfie'\n\\item 'bella'\n\\end{enumerate*}\n",
            "text/plain": [
              "[1] \"wolfie\" \"bella\" "
            ]
          },
          "metadata": {}
        }
      ]
    },
    {
      "cell_type": "code",
      "source": [
        "cats <- c('blue', 'elmo')\n",
        "cats"
      ],
      "metadata": {
        "colab": {
          "base_uri": "https://localhost:8080/",
          "height": 34
        },
        "id": "qnILGdgl1xud",
        "outputId": "992dbaac-e854-4237-a7a5-e4af12900d02"
      },
      "id": "qnILGdgl1xud",
      "execution_count": 3,
      "outputs": [
        {
          "output_type": "display_data",
          "data": {
            "text/html": [
              "<style>\n",
              ".list-inline {list-style: none; margin:0; padding: 0}\n",
              ".list-inline>li {display: inline-block}\n",
              ".list-inline>li:not(:last-child)::after {content: \"\\00b7\"; padding: 0 .5ex}\n",
              "</style>\n",
              "<ol class=list-inline><li>'blue'</li><li>'elmo'</li></ol>\n"
            ],
            "text/markdown": "1. 'blue'\n2. 'elmo'\n\n\n",
            "text/latex": "\\begin{enumerate*}\n\\item 'blue'\n\\item 'elmo'\n\\end{enumerate*}\n",
            "text/plain": [
              "[1] \"blue\" \"elmo\""
            ]
          },
          "metadata": {}
        }
      ]
    },
    {
      "cell_type": "code",
      "source": [
        "pets <- c(dogs, cats)\n",
        "pets"
      ],
      "metadata": {
        "colab": {
          "base_uri": "https://localhost:8080/",
          "height": 34
        },
        "id": "DULKa8rY2FzI",
        "outputId": "8222392c-ecc0-48a1-8c63-fb0967d992d4"
      },
      "id": "DULKa8rY2FzI",
      "execution_count": 4,
      "outputs": [
        {
          "output_type": "display_data",
          "data": {
            "text/html": [
              "<style>\n",
              ".list-inline {list-style: none; margin:0; padding: 0}\n",
              ".list-inline>li {display: inline-block}\n",
              ".list-inline>li:not(:last-child)::after {content: \"\\00b7\"; padding: 0 .5ex}\n",
              "</style>\n",
              "<ol class=list-inline><li>'wolfie'</li><li>'bella'</li><li>'blue'</li><li>'elmo'</li></ol>\n"
            ],
            "text/markdown": "1. 'wolfie'\n2. 'bella'\n3. 'blue'\n4. 'elmo'\n\n\n",
            "text/latex": "\\begin{enumerate*}\n\\item 'wolfie'\n\\item 'bella'\n\\item 'blue'\n\\item 'elmo'\n\\end{enumerate*}\n",
            "text/plain": [
              "[1] \"wolfie\" \"bella\"  \"blue\"   \"elmo\"  "
            ]
          },
          "metadata": {}
        }
      ]
    },
    {
      "cell_type": "code",
      "source": [
        "(2+3)*5/4"
      ],
      "metadata": {
        "colab": {
          "base_uri": "https://localhost:8080/",
          "height": 34
        },
        "id": "0uIagTtu2MNn",
        "outputId": "5573c7ef-502f-4d80-d806-ff5f1abbfac0"
      },
      "id": "0uIagTtu2MNn",
      "execution_count": 5,
      "outputs": [
        {
          "output_type": "display_data",
          "data": {
            "text/html": [
              "6.25"
            ],
            "text/markdown": "6.25",
            "text/latex": "6.25",
            "text/plain": [
              "[1] 6.25"
            ]
          },
          "metadata": {}
        }
      ]
    },
    {
      "cell_type": "code",
      "source": [
        "my_var <- c(TRUE, FALSE)\n",
        "my_var"
      ],
      "metadata": {
        "colab": {
          "base_uri": "https://localhost:8080/",
          "height": 34
        },
        "id": "JWZ_SS2e2Ml_",
        "outputId": "cd08118c-9185-471d-ef49-3fdfb541d9f0"
      },
      "id": "JWZ_SS2e2Ml_",
      "execution_count": 6,
      "outputs": [
        {
          "output_type": "display_data",
          "data": {
            "text/html": [
              "<style>\n",
              ".list-inline {list-style: none; margin:0; padding: 0}\n",
              ".list-inline>li {display: inline-block}\n",
              ".list-inline>li:not(:last-child)::after {content: \"\\00b7\"; padding: 0 .5ex}\n",
              "</style>\n",
              "<ol class=list-inline><li>TRUE</li><li>FALSE</li></ol>\n"
            ],
            "text/markdown": "1. TRUE\n2. FALSE\n\n\n",
            "text/latex": "\\begin{enumerate*}\n\\item TRUE\n\\item FALSE\n\\end{enumerate*}\n",
            "text/plain": [
              "[1]  TRUE FALSE"
            ]
          },
          "metadata": {}
        }
      ]
    },
    {
      "cell_type": "code",
      "source": [
        "2 == 3"
      ],
      "metadata": {
        "colab": {
          "base_uri": "https://localhost:8080/",
          "height": 34
        },
        "id": "m7xv-J4t2Ta1",
        "outputId": "09a9fd5d-c348-4cb3-e6aa-3283f4c62f18"
      },
      "id": "m7xv-J4t2Ta1",
      "execution_count": 7,
      "outputs": [
        {
          "output_type": "display_data",
          "data": {
            "text/html": [
              "FALSE"
            ],
            "text/markdown": "FALSE",
            "text/latex": "FALSE",
            "text/plain": [
              "[1] FALSE"
            ]
          },
          "metadata": {}
        }
      ]
    },
    {
      "cell_type": "code",
      "source": [
        "3 >= 1"
      ],
      "metadata": {
        "colab": {
          "base_uri": "https://localhost:8080/",
          "height": 34
        },
        "id": "GaLp7IA02XX6",
        "outputId": "3923d66e-ba9f-4b1d-e258-d699ce42830f"
      },
      "id": "GaLp7IA02XX6",
      "execution_count": 8,
      "outputs": [
        {
          "output_type": "display_data",
          "data": {
            "text/html": [
              "TRUE"
            ],
            "text/markdown": "TRUE",
            "text/latex": "TRUE",
            "text/plain": [
              "[1] TRUE"
            ]
          },
          "metadata": {}
        }
      ]
    },
    {
      "cell_type": "code",
      "source": [
        "seq(5,10)"
      ],
      "metadata": {
        "colab": {
          "base_uri": "https://localhost:8080/",
          "height": 34
        },
        "id": "-w9l-SXN2l_E",
        "outputId": "6b3671e8-be70-4498-bdc4-1a1a2a3efa5f"
      },
      "id": "-w9l-SXN2l_E",
      "execution_count": 9,
      "outputs": [
        {
          "output_type": "display_data",
          "data": {
            "text/html": [
              "<style>\n",
              ".list-inline {list-style: none; margin:0; padding: 0}\n",
              ".list-inline>li {display: inline-block}\n",
              ".list-inline>li:not(:last-child)::after {content: \"\\00b7\"; padding: 0 .5ex}\n",
              "</style>\n",
              "<ol class=list-inline><li>5</li><li>6</li><li>7</li><li>8</li><li>9</li><li>10</li></ol>\n"
            ],
            "text/markdown": "1. 5\n2. 6\n3. 7\n4. 8\n5. 9\n6. 10\n\n\n",
            "text/latex": "\\begin{enumerate*}\n\\item 5\n\\item 6\n\\item 7\n\\item 8\n\\item 9\n\\item 10\n\\end{enumerate*}\n",
            "text/plain": [
              "[1]  5  6  7  8  9 10"
            ]
          },
          "metadata": {}
        }
      ]
    },
    {
      "cell_type": "code",
      "source": [
        "5:10"
      ],
      "metadata": {
        "colab": {
          "base_uri": "https://localhost:8080/",
          "height": 34
        },
        "id": "p9F2cyS02mUw",
        "outputId": "f8db5a6b-bb01-464c-adb0-1e30bb6093d9"
      },
      "id": "p9F2cyS02mUw",
      "execution_count": 10,
      "outputs": [
        {
          "output_type": "display_data",
          "data": {
            "text/html": [
              "<style>\n",
              ".list-inline {list-style: none; margin:0; padding: 0}\n",
              ".list-inline>li {display: inline-block}\n",
              ".list-inline>li:not(:last-child)::after {content: \"\\00b7\"; padding: 0 .5ex}\n",
              "</style>\n",
              "<ol class=list-inline><li>5</li><li>6</li><li>7</li><li>8</li><li>9</li><li>10</li></ol>\n"
            ],
            "text/markdown": "1. 5\n2. 6\n3. 7\n4. 8\n5. 9\n6. 10\n\n\n",
            "text/latex": "\\begin{enumerate*}\n\\item 5\n\\item 6\n\\item 7\n\\item 8\n\\item 9\n\\item 10\n\\end{enumerate*}\n",
            "text/plain": [
              "[1]  5  6  7  8  9 10"
            ]
          },
          "metadata": {}
        }
      ]
    },
    {
      "cell_type": "code",
      "source": [
        "long_list <- seq(1,100)\n",
        "head(long_list)"
      ],
      "metadata": {
        "colab": {
          "base_uri": "https://localhost:8080/",
          "height": 34
        },
        "id": "nhqkxVu02orU",
        "outputId": "60e4b666-e643-4f75-afab-fca30d4a727a"
      },
      "id": "nhqkxVu02orU",
      "execution_count": 11,
      "outputs": [
        {
          "output_type": "display_data",
          "data": {
            "text/html": [
              "<style>\n",
              ".list-inline {list-style: none; margin:0; padding: 0}\n",
              ".list-inline>li {display: inline-block}\n",
              ".list-inline>li:not(:last-child)::after {content: \"\\00b7\"; padding: 0 .5ex}\n",
              "</style>\n",
              "<ol class=list-inline><li>1</li><li>2</li><li>3</li><li>4</li><li>5</li><li>6</li></ol>\n"
            ],
            "text/markdown": "1. 1\n2. 2\n3. 3\n4. 4\n5. 5\n6. 6\n\n\n",
            "text/latex": "\\begin{enumerate*}\n\\item 1\n\\item 2\n\\item 3\n\\item 4\n\\item 5\n\\item 6\n\\end{enumerate*}\n",
            "text/plain": [
              "[1] 1 2 3 4 5 6"
            ]
          },
          "metadata": {}
        }
      ]
    },
    {
      "cell_type": "code",
      "source": [
        "length(long_list)"
      ],
      "metadata": {
        "colab": {
          "base_uri": "https://localhost:8080/",
          "height": 34
        },
        "id": "csDKg3zYfgi_",
        "outputId": "137aa042-3f4a-4aec-e0b4-fc94229feacc"
      },
      "id": "csDKg3zYfgi_",
      "execution_count": 12,
      "outputs": [
        {
          "output_type": "display_data",
          "data": {
            "text/html": [
              "100"
            ],
            "text/markdown": "100",
            "text/latex": "100",
            "text/plain": [
              "[1] 100"
            ]
          },
          "metadata": {}
        }
      ]
    },
    {
      "cell_type": "code",
      "source": [
        "my_vec <- seq(5,10)\n",
        "my_vec"
      ],
      "metadata": {
        "colab": {
          "base_uri": "https://localhost:8080/",
          "height": 34
        },
        "id": "jxPd69dY2xAJ",
        "outputId": "261a7ce2-55c0-461e-d5b4-0d331c14a4cd"
      },
      "id": "jxPd69dY2xAJ",
      "execution_count": 13,
      "outputs": [
        {
          "output_type": "display_data",
          "data": {
            "text/html": [
              "<style>\n",
              ".list-inline {list-style: none; margin:0; padding: 0}\n",
              ".list-inline>li {display: inline-block}\n",
              ".list-inline>li:not(:last-child)::after {content: \"\\00b7\"; padding: 0 .5ex}\n",
              "</style>\n",
              "<ol class=list-inline><li>5</li><li>6</li><li>7</li><li>8</li><li>9</li><li>10</li></ol>\n"
            ],
            "text/markdown": "1. 5\n2. 6\n3. 7\n4. 8\n5. 9\n6. 10\n\n\n",
            "text/latex": "\\begin{enumerate*}\n\\item 5\n\\item 6\n\\item 7\n\\item 8\n\\item 9\n\\item 10\n\\end{enumerate*}\n",
            "text/plain": [
              "[1]  5  6  7  8  9 10"
            ]
          },
          "metadata": {}
        }
      ]
    },
    {
      "cell_type": "code",
      "source": [
        "sum(my_vec)"
      ],
      "metadata": {
        "colab": {
          "base_uri": "https://localhost:8080/",
          "height": 34
        },
        "id": "lNrSnE3BgBgY",
        "outputId": "f6994599-bc55-432d-b414-115d926ee7d7"
      },
      "id": "lNrSnE3BgBgY",
      "execution_count": 14,
      "outputs": [
        {
          "output_type": "display_data",
          "data": {
            "text/html": [
              "45"
            ],
            "text/markdown": "45",
            "text/latex": "45",
            "text/plain": [
              "[1] 45"
            ]
          },
          "metadata": {}
        }
      ]
    },
    {
      "cell_type": "code",
      "source": [
        "mean(my_vec)"
      ],
      "metadata": {
        "colab": {
          "base_uri": "https://localhost:8080/",
          "height": 34
        },
        "id": "323wMzAugFcu",
        "outputId": "e4895cc8-48f3-4d91-92bb-a103267d98d6"
      },
      "id": "323wMzAugFcu",
      "execution_count": 15,
      "outputs": [
        {
          "output_type": "display_data",
          "data": {
            "text/html": [
              "7.5"
            ],
            "text/markdown": "7.5",
            "text/latex": "7.5",
            "text/plain": [
              "[1] 7.5"
            ]
          },
          "metadata": {}
        }
      ]
    },
    {
      "cell_type": "code",
      "source": [
        "b_vec <- c(TRUE, TRUE, FALSE)\n",
        "sum(b_vec)"
      ],
      "metadata": {
        "colab": {
          "base_uri": "https://localhost:8080/",
          "height": 34
        },
        "id": "fhwGqD998KN6",
        "outputId": "bf2d32a4-266f-4092-eac7-1962b907608f"
      },
      "id": "fhwGqD998KN6",
      "execution_count": 16,
      "outputs": [
        {
          "output_type": "display_data",
          "data": {
            "text/html": [
              "2"
            ],
            "text/markdown": "2",
            "text/latex": "2",
            "text/plain": [
              "[1] 2"
            ]
          },
          "metadata": {}
        }
      ]
    },
    {
      "cell_type": "code",
      "source": [
        "mean(b_vec)"
      ],
      "metadata": {
        "colab": {
          "base_uri": "https://localhost:8080/",
          "height": 34
        },
        "id": "CKgEyPfj8WDW",
        "outputId": "df825ca7-4c34-4bd3-ec49-d0f80a936e0e"
      },
      "id": "CKgEyPfj8WDW",
      "execution_count": 17,
      "outputs": [
        {
          "output_type": "display_data",
          "data": {
            "text/html": [
              "0.666666666666667"
            ],
            "text/markdown": "0.666666666666667",
            "text/latex": "0.666666666666667",
            "text/plain": [
              "[1] 0.6666667"
            ]
          },
          "metadata": {}
        }
      ]
    },
    {
      "cell_type": "code",
      "source": [
        "ages <- c(28, 45, 15, 8, 83, 3, 42, 35, 12, 50)"
      ],
      "metadata": {
        "id": "hX2JaTRFcwdP"
      },
      "id": "hX2JaTRFcwdP",
      "execution_count": 18,
      "outputs": []
    },
    {
      "cell_type": "code",
      "source": [
        "ages >= 25"
      ],
      "metadata": {
        "colab": {
          "base_uri": "https://localhost:8080/",
          "height": 34
        },
        "id": "MBAS3_vtcwSS",
        "outputId": "2443cc0d-0708-43ee-d06f-00d2072a5d5b"
      },
      "id": "MBAS3_vtcwSS",
      "execution_count": 19,
      "outputs": [
        {
          "output_type": "display_data",
          "data": {
            "text/html": [
              "<style>\n",
              ".list-inline {list-style: none; margin:0; padding: 0}\n",
              ".list-inline>li {display: inline-block}\n",
              ".list-inline>li:not(:last-child)::after {content: \"\\00b7\"; padding: 0 .5ex}\n",
              "</style>\n",
              "<ol class=list-inline><li>TRUE</li><li>TRUE</li><li>FALSE</li><li>FALSE</li><li>TRUE</li><li>FALSE</li><li>TRUE</li><li>TRUE</li><li>FALSE</li><li>TRUE</li></ol>\n"
            ],
            "text/markdown": "1. TRUE\n2. TRUE\n3. FALSE\n4. FALSE\n5. TRUE\n6. FALSE\n7. TRUE\n8. TRUE\n9. FALSE\n10. TRUE\n\n\n",
            "text/latex": "\\begin{enumerate*}\n\\item TRUE\n\\item TRUE\n\\item FALSE\n\\item FALSE\n\\item TRUE\n\\item FALSE\n\\item TRUE\n\\item TRUE\n\\item FALSE\n\\item TRUE\n\\end{enumerate*}\n",
            "text/plain": [
              " [1]  TRUE  TRUE FALSE FALSE  TRUE FALSE  TRUE  TRUE FALSE  TRUE"
            ]
          },
          "metadata": {}
        }
      ]
    },
    {
      "cell_type": "code",
      "source": [
        "mean(ages >= 25)"
      ],
      "metadata": {
        "colab": {
          "base_uri": "https://localhost:8080/",
          "height": 34
        },
        "id": "LIep6cJmdCiU",
        "outputId": "4c519bf1-a1b8-427e-a15e-39a9774f9518"
      },
      "id": "LIep6cJmdCiU",
      "execution_count": 20,
      "outputs": [
        {
          "output_type": "display_data",
          "data": {
            "text/html": [
              "0.6"
            ],
            "text/markdown": "0.6",
            "text/latex": "0.6",
            "text/plain": [
              "[1] 0.6"
            ]
          },
          "metadata": {}
        }
      ]
    },
    {
      "cell_type": "markdown",
      "source": [
        "## Part 2: Simulation\n"
      ],
      "metadata": {
        "id": "RzKFsDSaxtLZ"
      },
      "id": "RzKFsDSaxtLZ"
    },
    {
      "cell_type": "code",
      "source": [
        "set.seed(1)"
      ],
      "metadata": {
        "id": "7slLkmhyx0xj"
      },
      "id": "7slLkmhyx0xj",
      "execution_count": 21,
      "outputs": []
    },
    {
      "cell_type": "code",
      "source": [
        "sample(pets, 2)"
      ],
      "metadata": {
        "id": "DpXzmhPnLkqh",
        "colab": {
          "base_uri": "https://localhost:8080/",
          "height": 34
        },
        "outputId": "b548d8e0-0a14-4c15-ddec-abe21d4e6113"
      },
      "id": "DpXzmhPnLkqh",
      "execution_count": 22,
      "outputs": [
        {
          "output_type": "display_data",
          "data": {
            "text/html": [
              "<style>\n",
              ".list-inline {list-style: none; margin:0; padding: 0}\n",
              ".list-inline>li {display: inline-block}\n",
              ".list-inline>li:not(:last-child)::after {content: \"\\00b7\"; padding: 0 .5ex}\n",
              "</style>\n",
              "<ol class=list-inline><li>'wolfie'</li><li>'blue'</li></ol>\n"
            ],
            "text/markdown": "1. 'wolfie'\n2. 'blue'\n\n\n",
            "text/latex": "\\begin{enumerate*}\n\\item 'wolfie'\n\\item 'blue'\n\\end{enumerate*}\n",
            "text/plain": [
              "[1] \"wolfie\" \"blue\"  "
            ]
          },
          "metadata": {}
        }
      ]
    },
    {
      "cell_type": "code",
      "source": [
        "sample(pets, 2)"
      ],
      "metadata": {
        "id": "Ww2oBFclEZlF",
        "outputId": "a3ad0bfe-1f07-4066-f54d-5fd9194aa9ae",
        "colab": {
          "base_uri": "https://localhost:8080/",
          "height": 34
        }
      },
      "id": "Ww2oBFclEZlF",
      "execution_count": 23,
      "outputs": [
        {
          "output_type": "display_data",
          "data": {
            "text/html": [
              "<style>\n",
              ".list-inline {list-style: none; margin:0; padding: 0}\n",
              ".list-inline>li {display: inline-block}\n",
              ".list-inline>li:not(:last-child)::after {content: \"\\00b7\"; padding: 0 .5ex}\n",
              "</style>\n",
              "<ol class=list-inline><li>'wolfie'</li><li>'bella'</li></ol>\n"
            ],
            "text/markdown": "1. 'wolfie'\n2. 'bella'\n\n\n",
            "text/latex": "\\begin{enumerate*}\n\\item 'wolfie'\n\\item 'bella'\n\\end{enumerate*}\n",
            "text/plain": [
              "[1] \"wolfie\" \"bella\" "
            ]
          },
          "metadata": {}
        }
      ]
    },
    {
      "cell_type": "code",
      "source": [
        "sample(pets, 2)"
      ],
      "metadata": {
        "id": "06_Vh2k2EeGu",
        "outputId": "56c48f90-bdf5-4e56-c1e7-1452bbb8b045",
        "colab": {
          "base_uri": "https://localhost:8080/",
          "height": 34
        }
      },
      "id": "06_Vh2k2EeGu",
      "execution_count": 24,
      "outputs": [
        {
          "output_type": "display_data",
          "data": {
            "text/html": [
              "<style>\n",
              ".list-inline {list-style: none; margin:0; padding: 0}\n",
              ".list-inline>li {display: inline-block}\n",
              ".list-inline>li:not(:last-child)::after {content: \"\\00b7\"; padding: 0 .5ex}\n",
              "</style>\n",
              "<ol class=list-inline><li>'wolfie'</li><li>'blue'</li></ol>\n"
            ],
            "text/markdown": "1. 'wolfie'\n2. 'blue'\n\n\n",
            "text/latex": "\\begin{enumerate*}\n\\item 'wolfie'\n\\item 'blue'\n\\end{enumerate*}\n",
            "text/plain": [
              "[1] \"wolfie\" \"blue\"  "
            ]
          },
          "metadata": {}
        }
      ]
    },
    {
      "cell_type": "code",
      "source": [
        "sample(pets, 4)"
      ],
      "metadata": {
        "id": "fpIytG0kEiwN",
        "outputId": "4416c75e-0872-40df-ec3b-b2616cf4747e",
        "colab": {
          "base_uri": "https://localhost:8080/",
          "height": 34
        }
      },
      "id": "fpIytG0kEiwN",
      "execution_count": 25,
      "outputs": [
        {
          "output_type": "display_data",
          "data": {
            "text/html": [
              "<style>\n",
              ".list-inline {list-style: none; margin:0; padding: 0}\n",
              ".list-inline>li {display: inline-block}\n",
              ".list-inline>li:not(:last-child)::after {content: \"\\00b7\"; padding: 0 .5ex}\n",
              "</style>\n",
              "<ol class=list-inline><li>'blue'</li><li>'bella'</li><li>'elmo'</li><li>'wolfie'</li></ol>\n"
            ],
            "text/markdown": "1. 'blue'\n2. 'bella'\n3. 'elmo'\n4. 'wolfie'\n\n\n",
            "text/latex": "\\begin{enumerate*}\n\\item 'blue'\n\\item 'bella'\n\\item 'elmo'\n\\item 'wolfie'\n\\end{enumerate*}\n",
            "text/plain": [
              "[1] \"blue\"   \"bella\"  \"elmo\"   \"wolfie\""
            ]
          },
          "metadata": {}
        }
      ]
    },
    {
      "cell_type": "code",
      "source": [
        "sample(pets, 2, replace = TRUE)"
      ],
      "metadata": {
        "id": "lfrCmjtlElbD",
        "outputId": "24b50b9b-a430-4a93-c75f-f19a5fdbf4da",
        "colab": {
          "base_uri": "https://localhost:8080/",
          "height": 34
        }
      },
      "id": "lfrCmjtlElbD",
      "execution_count": 26,
      "outputs": [
        {
          "output_type": "display_data",
          "data": {
            "text/html": [
              "<style>\n",
              ".list-inline {list-style: none; margin:0; padding: 0}\n",
              ".list-inline>li {display: inline-block}\n",
              ".list-inline>li:not(:last-child)::after {content: \"\\00b7\"; padding: 0 .5ex}\n",
              "</style>\n",
              "<ol class=list-inline><li>'blue'</li><li>'wolfie'</li></ol>\n"
            ],
            "text/markdown": "1. 'blue'\n2. 'wolfie'\n\n\n",
            "text/latex": "\\begin{enumerate*}\n\\item 'blue'\n\\item 'wolfie'\n\\end{enumerate*}\n",
            "text/plain": [
              "[1] \"blue\"   \"wolfie\""
            ]
          },
          "metadata": {}
        }
      ]
    },
    {
      "cell_type": "code",
      "source": [
        "sample(pets, 2, replace = TRUE)"
      ],
      "metadata": {
        "id": "ZatA3RQAEowI",
        "outputId": "17bc8e16-4c1a-4a3c-b55b-e276b599e8c9",
        "colab": {
          "base_uri": "https://localhost:8080/",
          "height": 34
        }
      },
      "id": "ZatA3RQAEowI",
      "execution_count": 27,
      "outputs": [
        {
          "output_type": "display_data",
          "data": {
            "text/html": [
              "<style>\n",
              ".list-inline {list-style: none; margin:0; padding: 0}\n",
              ".list-inline>li {display: inline-block}\n",
              ".list-inline>li:not(:last-child)::after {content: \"\\00b7\"; padding: 0 .5ex}\n",
              "</style>\n",
              "<ol class=list-inline><li>'wolfie'</li><li>'wolfie'</li></ol>\n"
            ],
            "text/markdown": "1. 'wolfie'\n2. 'wolfie'\n\n\n",
            "text/latex": "\\begin{enumerate*}\n\\item 'wolfie'\n\\item 'wolfie'\n\\end{enumerate*}\n",
            "text/plain": [
              "[1] \"wolfie\" \"wolfie\""
            ]
          },
          "metadata": {}
        }
      ]
    },
    {
      "cell_type": "code",
      "source": [
        "sample(pets, 2, replace = TRUE)"
      ],
      "metadata": {
        "id": "NkoQOk2nEq_u",
        "outputId": "ff17d522-6c55-4a2a-9870-5427761fea34",
        "colab": {
          "base_uri": "https://localhost:8080/",
          "height": 34
        }
      },
      "id": "NkoQOk2nEq_u",
      "execution_count": 28,
      "outputs": [
        {
          "output_type": "display_data",
          "data": {
            "text/html": [
              "<style>\n",
              ".list-inline {list-style: none; margin:0; padding: 0}\n",
              ".list-inline>li {display: inline-block}\n",
              ".list-inline>li:not(:last-child)::after {content: \"\\00b7\"; padding: 0 .5ex}\n",
              "</style>\n",
              "<ol class=list-inline><li>'bella'</li><li>'bella'</li></ol>\n"
            ],
            "text/markdown": "1. 'bella'\n2. 'bella'\n\n\n",
            "text/latex": "\\begin{enumerate*}\n\\item 'bella'\n\\item 'bella'\n\\end{enumerate*}\n",
            "text/plain": [
              "[1] \"bella\" \"bella\""
            ]
          },
          "metadata": {}
        }
      ]
    },
    {
      "cell_type": "code",
      "source": [
        "sample(pets, 4, replace = TRUE)"
      ],
      "metadata": {
        "id": "m2tb9HamEsL9",
        "outputId": "8b001db2-eb2c-4745-e5ba-90faf7d10dee",
        "colab": {
          "base_uri": "https://localhost:8080/",
          "height": 34
        }
      },
      "id": "m2tb9HamEsL9",
      "execution_count": 29,
      "outputs": [
        {
          "output_type": "display_data",
          "data": {
            "text/html": [
              "<style>\n",
              ".list-inline {list-style: none; margin:0; padding: 0}\n",
              ".list-inline>li {display: inline-block}\n",
              ".list-inline>li:not(:last-child)::after {content: \"\\00b7\"; padding: 0 .5ex}\n",
              "</style>\n",
              "<ol class=list-inline><li>'bella'</li><li>'bella'</li><li>'blue'</li><li>'wolfie'</li></ol>\n"
            ],
            "text/markdown": "1. 'bella'\n2. 'bella'\n3. 'blue'\n4. 'wolfie'\n\n\n",
            "text/latex": "\\begin{enumerate*}\n\\item 'bella'\n\\item 'bella'\n\\item 'blue'\n\\item 'wolfie'\n\\end{enumerate*}\n",
            "text/plain": [
              "[1] \"bella\"  \"bella\"  \"blue\"   \"wolfie\""
            ]
          },
          "metadata": {}
        }
      ]
    },
    {
      "cell_type": "code",
      "source": [
        "sample(1:50, 10, replace = TRUE)"
      ],
      "metadata": {
        "id": "J6AxEbAlE9hj",
        "outputId": "f7c4e021-eb83-4b24-e8b5-1c34e417d95f",
        "colab": {
          "base_uri": "https://localhost:8080/",
          "height": 34
        }
      },
      "id": "J6AxEbAlE9hj",
      "execution_count": 30,
      "outputs": [
        {
          "output_type": "display_data",
          "data": {
            "text/html": [
              "<style>\n",
              ".list-inline {list-style: none; margin:0; padding: 0}\n",
              ".list-inline>li {display: inline-block}\n",
              ".list-inline>li:not(:last-child)::after {content: \"\\00b7\"; padding: 0 .5ex}\n",
              "</style>\n",
              "<ol class=list-inline><li>15</li><li>21</li><li>37</li><li>41</li><li>25</li><li>46</li><li>37</li><li>37</li><li>34</li><li>42</li></ol>\n"
            ],
            "text/markdown": "1. 15\n2. 21\n3. 37\n4. 41\n5. 25\n6. 46\n7. 37\n8. 37\n9. 34\n10. 42\n\n\n",
            "text/latex": "\\begin{enumerate*}\n\\item 15\n\\item 21\n\\item 37\n\\item 41\n\\item 25\n\\item 46\n\\item 37\n\\item 37\n\\item 34\n\\item 42\n\\end{enumerate*}\n",
            "text/plain": [
              " [1] 15 21 37 41 25 46 37 37 34 42"
            ]
          },
          "metadata": {}
        }
      ]
    },
    {
      "cell_type": "code",
      "source": [
        "replicate(5, {\n",
        "  my_draws <- sample(1:50, 10, replace = TRUE)\n",
        "  sum(my_draws)\n",
        "})"
      ],
      "metadata": {
        "id": "RsQexJz3FTka",
        "outputId": "70b40c15-9adc-4402-9cdf-c2701afa49a5",
        "colab": {
          "base_uri": "https://localhost:8080/",
          "height": 34
        }
      },
      "id": "RsQexJz3FTka",
      "execution_count": 31,
      "outputs": [
        {
          "output_type": "display_data",
          "data": {
            "text/html": [
              "<style>\n",
              ".list-inline {list-style: none; margin:0; padding: 0}\n",
              ".list-inline>li {display: inline-block}\n",
              ".list-inline>li:not(:last-child)::after {content: \"\\00b7\"; padding: 0 .5ex}\n",
              "</style>\n",
              "<ol class=list-inline><li>268</li><li>297</li><li>228</li><li>234</li><li>277</li></ol>\n"
            ],
            "text/markdown": "1. 268\n2. 297\n3. 228\n4. 234\n5. 277\n\n\n",
            "text/latex": "\\begin{enumerate*}\n\\item 268\n\\item 297\n\\item 228\n\\item 234\n\\item 277\n\\end{enumerate*}\n",
            "text/plain": [
              "[1] 268 297 228 234 277"
            ]
          },
          "metadata": {}
        }
      ]
    },
    {
      "cell_type": "code",
      "source": [
        "replicate(5, {\n",
        "  my_draws <- sample(1:50, 10, replace = TRUE)\n",
        "  sum(my_draws)\n",
        "})"
      ],
      "metadata": {
        "id": "I5OzUnqxFkzW",
        "outputId": "911b5813-7c0e-456a-af3a-b44e562f3f56",
        "colab": {
          "base_uri": "https://localhost:8080/",
          "height": 34
        }
      },
      "id": "I5OzUnqxFkzW",
      "execution_count": 32,
      "outputs": [
        {
          "output_type": "display_data",
          "data": {
            "text/html": [
              "<style>\n",
              ".list-inline {list-style: none; margin:0; padding: 0}\n",
              ".list-inline>li {display: inline-block}\n",
              ".list-inline>li:not(:last-child)::after {content: \"\\00b7\"; padding: 0 .5ex}\n",
              "</style>\n",
              "<ol class=list-inline><li>318</li><li>275</li><li>373</li><li>250</li><li>309</li></ol>\n"
            ],
            "text/markdown": "1. 318\n2. 275\n3. 373\n4. 250\n5. 309\n\n\n",
            "text/latex": "\\begin{enumerate*}\n\\item 318\n\\item 275\n\\item 373\n\\item 250\n\\item 309\n\\end{enumerate*}\n",
            "text/plain": [
              "[1] 318 275 373 250 309"
            ]
          },
          "metadata": {}
        }
      ]
    }
  ],
  "metadata": {
    "colab": {
      "provenance": [],
      "include_colab_link": true
    },
    "kernelspec": {
      "display_name": "R",
      "language": "R",
      "name": "ir"
    },
    "language_info": {
      "codemirror_mode": "r",
      "file_extension": ".r",
      "mimetype": "text/x-r-source",
      "name": "R",
      "pygments_lexer": "r",
      "version": "4.2.1"
    }
  },
  "nbformat": 4,
  "nbformat_minor": 5
}